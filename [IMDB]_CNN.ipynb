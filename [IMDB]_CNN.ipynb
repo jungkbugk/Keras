{
 "cells": [
  {
   "cell_type": "markdown",
   "metadata": {},
   "source": [
    "#IMDB With CNN\n",
    "이번 노트북의 목표는 IMDB를 CNN으로 학습하는것입니다.\n",
    "\n",
    "IMDB 데이터셋은 인터넷 영화 데이터베이스로부터 가져온 양 극단의 리뷰 50,000개로 이루어져 있습니다.\n",
    "데이터에 대한 자세한 설명은 \n",
    "[IMDB] 3.4 파일에 정리했으므로 생략하겠습니다.\n"
   ]
  },
  {
   "cell_type": "code",
   "execution_count": 1,
   "metadata": {},
   "outputs": [
    {
     "name": "stderr",
     "output_type": "stream",
     "text": [
      "Using TensorFlow backend.\n",
      "Invalid requirement: '#'\n",
      "\n"
     ]
    }
   ],
   "source": [
    "from keras.datasets import imdb\n",
    "!pip install numpy==1.16.1 # specififed numpy version.\n",
    "import numpy as np\n",
    "\n",
    "# This instruction will occur error:not pickled. [SOLVE: using numpy version: 1.16.1]\n",
    "(train_data,train_labels),(test_data,test_labels) = imdb.load_data(num_words=10000)"
   ]
  },
  {
   "cell_type": "markdown",
   "metadata": {},
   "source": [
    "5만개의 데이터셋을 각각 2만개의 데이터셋과 2만개의 트레이닝셋으로 구분하였습니다."
   ]
  },
  {
   "cell_type": "code",
   "execution_count": 2,
   "metadata": {},
   "outputs": [],
   "source": [
    "data_train = train_data[:20000]\n",
    "label_train = train_labels[:20000]\n",
    "data_val = train_data[20000:]\n",
    "label_val = train_labels[20000:]"
   ]
  },
  {
   "cell_type": "markdown",
   "metadata": {},
   "source": [
    "길이를 같게 패딩합니다."
   ]
  },
  {
   "cell_type": "code",
   "execution_count": 3,
   "metadata": {},
   "outputs": [],
   "source": [
    "from keras.preprocessing import sequence\n",
    "\n",
    "data_train = sequence.pad_sequences(data_train, maxlen=200)\n",
    "data_val = sequence.pad_sequences(data_val, maxlen=200)\n",
    "test_data = sequence.pad_sequences(test_data, maxlen=200)"
   ]
  },
  {
   "cell_type": "markdown",
   "metadata": {},
   "source": [
    "CNN 모델을 정의합니다."
   ]
  },
  {
   "cell_type": "code",
   "execution_count": 4,
   "metadata": {},
   "outputs": [
    {
     "name": "stderr",
     "output_type": "stream",
     "text": [
      "WARNING: Logging before flag parsing goes to stderr.\n",
      "W0805 01:13:34.027988 11752 deprecation_wrapper.py:119] From C:\\Users\\yhkim\\Anaconda3\\lib\\site-packages\\keras\\backend\\tensorflow_backend.py:74: The name tf.get_default_graph is deprecated. Please use tf.compat.v1.get_default_graph instead.\n",
      "\n",
      "W0805 01:13:34.160477 11752 deprecation_wrapper.py:119] From C:\\Users\\yhkim\\Anaconda3\\lib\\site-packages\\keras\\backend\\tensorflow_backend.py:517: The name tf.placeholder is deprecated. Please use tf.compat.v1.placeholder instead.\n",
      "\n",
      "W0805 01:13:34.188783 11752 deprecation_wrapper.py:119] From C:\\Users\\yhkim\\Anaconda3\\lib\\site-packages\\keras\\backend\\tensorflow_backend.py:4138: The name tf.random_uniform is deprecated. Please use tf.random.uniform instead.\n",
      "\n",
      "W0805 01:13:34.234654 11752 deprecation_wrapper.py:119] From C:\\Users\\yhkim\\Anaconda3\\lib\\site-packages\\keras\\backend\\tensorflow_backend.py:133: The name tf.placeholder_with_default is deprecated. Please use tf.compat.v1.placeholder_with_default instead.\n",
      "\n",
      "W0805 01:13:34.255149 11752 deprecation.py:506] From C:\\Users\\yhkim\\Anaconda3\\lib\\site-packages\\keras\\backend\\tensorflow_backend.py:3445: calling dropout (from tensorflow.python.ops.nn_ops) with keep_prob is deprecated and will be removed in a future version.\n",
      "Instructions for updating:\n",
      "Please use `rate` instead of `keep_prob`. Rate should be set to `rate = 1 - keep_prob`.\n"
     ]
    }
   ],
   "source": [
    "from keras.layers import Conv1D, GlobalMaxPooling1D\n",
    "from keras.models import Sequential\n",
    "from keras.layers import Dense, Embedding\n",
    "from keras.layers import Flatten, Dropout\n",
    "\n",
    "model = Sequential()\n",
    "model.add(Embedding(10000, 128, input_length=200))\n",
    "model.add(Dropout(0.2))\n",
    "model.add(Conv1D(256,\n",
    "                 3,\n",
    "                 padding='valid',\n",
    "                 activation='relu',\n",
    "                 strides=1))\n",
    "model.add(GlobalMaxPooling1D())\n",
    "model.add(Dense(128, activation='relu'))\n",
    "model.add(Dropout(0.2))\n",
    "model.add(Dense(1, activation='sigmoid'))"
   ]
  },
  {
   "cell_type": "markdown",
   "metadata": {},
   "source": [
    "64개씩 미니 배치를 만들어 Epochs 25(총 25번 학습)로 20000개의 트레이팅셋의 학습을 시작합니다."
   ]
  },
  {
   "cell_type": "code",
   "execution_count": 5,
   "metadata": {},
   "outputs": [
    {
     "name": "stderr",
     "output_type": "stream",
     "text": [
      "W0805 01:13:34.480604 11752 deprecation_wrapper.py:119] From C:\\Users\\yhkim\\Anaconda3\\lib\\site-packages\\keras\\optimizers.py:790: The name tf.train.Optimizer is deprecated. Please use tf.compat.v1.train.Optimizer instead.\n",
      "\n",
      "W0805 01:13:34.540148 11752 deprecation_wrapper.py:119] From C:\\Users\\yhkim\\Anaconda3\\lib\\site-packages\\keras\\backend\\tensorflow_backend.py:3376: The name tf.log is deprecated. Please use tf.math.log instead.\n",
      "\n",
      "W0805 01:13:34.551862 11752 deprecation.py:323] From C:\\Users\\yhkim\\Anaconda3\\lib\\site-packages\\tensorflow\\python\\ops\\nn_impl.py:180: add_dispatch_support.<locals>.wrapper (from tensorflow.python.ops.array_ops) is deprecated and will be removed in a future version.\n",
      "Instructions for updating:\n",
      "Use tf.where in 2.0, which has the same broadcast rule as np.where\n"
     ]
    },
    {
     "name": "stdout",
     "output_type": "stream",
     "text": [
      "Train on 20000 samples, validate on 5000 samples\n",
      "Epoch 1/25\n",
      "20000/20000 [==============================] - 69s 3ms/step - loss: 0.4661 - acc: 0.7588 - val_loss: 0.3013 - val_acc: 0.8720\n",
      "Epoch 2/25\n",
      "20000/20000 [==============================] - 71s 4ms/step - loss: 0.2239 - acc: 0.9103 - val_loss: 0.2638 - val_acc: 0.8934\n",
      "Epoch 3/25\n",
      "20000/20000 [==============================] - 68s 3ms/step - loss: 0.1041 - acc: 0.9659 - val_loss: 0.3045 - val_acc: 0.8852\n",
      "Epoch 4/25\n",
      "20000/20000 [==============================] - 64s 3ms/step - loss: 0.0375 - acc: 0.9899 - val_loss: 0.3488 - val_acc: 0.8902\n",
      "Epoch 5/25\n",
      "20000/20000 [==============================] - 60s 3ms/step - loss: 0.0121 - acc: 0.9978 - val_loss: 0.4063 - val_acc: 0.8884\n",
      "Epoch 6/25\n",
      "20000/20000 [==============================] - 60s 3ms/step - loss: 0.0051 - acc: 0.9991 - val_loss: 0.4451 - val_acc: 0.8862\n",
      "Epoch 7/25\n",
      "20000/20000 [==============================] - 59s 3ms/step - loss: 0.0024 - acc: 0.9999 - val_loss: 0.4852 - val_acc: 0.8846\n",
      "Epoch 8/25\n",
      "20000/20000 [==============================] - 60s 3ms/step - loss: 0.0016 - acc: 0.9998 - val_loss: 0.5071 - val_acc: 0.8882\n",
      "Epoch 9/25\n",
      "20000/20000 [==============================] - 57s 3ms/step - loss: 0.0011 - acc: 0.9999 - val_loss: 0.5332 - val_acc: 0.8910\n",
      "Epoch 10/25\n",
      "20000/20000 [==============================] - 57s 3ms/step - loss: 0.0069 - acc: 0.9977 - val_loss: 0.6965 - val_acc: 0.8608\n",
      "Epoch 11/25\n",
      "20000/20000 [==============================] - 68s 3ms/step - loss: 0.0245 - acc: 0.9904 - val_loss: 0.5804 - val_acc: 0.8786\n",
      "Epoch 12/25\n",
      "20000/20000 [==============================] - 71s 4ms/step - loss: 0.0195 - acc: 0.9935 - val_loss: 0.6476 - val_acc: 0.8722\n",
      "Epoch 13/25\n",
      "20000/20000 [==============================] - 69s 3ms/step - loss: 0.0141 - acc: 0.9951 - val_loss: 0.5686 - val_acc: 0.8836\n",
      "Epoch 14/25\n",
      "20000/20000 [==============================] - 63s 3ms/step - loss: 0.0097 - acc: 0.9967 - val_loss: 0.6389 - val_acc: 0.8704\n",
      "Epoch 15/25\n",
      "20000/20000 [==============================] - 59s 3ms/step - loss: 0.0072 - acc: 0.9975 - val_loss: 0.6667 - val_acc: 0.8814\n",
      "Epoch 16/25\n",
      "20000/20000 [==============================] - 59s 3ms/step - loss: 0.0015 - acc: 0.9996 - val_loss: 0.7575 - val_acc: 0.8822\n",
      "Epoch 17/25\n",
      "20000/20000 [==============================] - 64s 3ms/step - loss: 0.0018 - acc: 0.9991 - val_loss: 0.7206 - val_acc: 0.8862\n",
      "Epoch 18/25\n",
      "20000/20000 [==============================] - 64s 3ms/step - loss: 0.0094 - acc: 0.9970 - val_loss: 0.7020 - val_acc: 0.8804\n",
      "Epoch 19/25\n",
      "20000/20000 [==============================] - 59s 3ms/step - loss: 0.0053 - acc: 0.9981 - val_loss: 0.7454 - val_acc: 0.8840\n",
      "Epoch 20/25\n",
      "20000/20000 [==============================] - 62s 3ms/step - loss: 0.0068 - acc: 0.9977 - val_loss: 0.7815 - val_acc: 0.8784\n",
      "Epoch 21/25\n",
      "20000/20000 [==============================] - 62s 3ms/step - loss: 0.0058 - acc: 0.9979 - val_loss: 0.7589 - val_acc: 0.8768\n",
      "Epoch 22/25\n",
      "20000/20000 [==============================] - 60s 3ms/step - loss: 0.0063 - acc: 0.9976 - val_loss: 0.7313 - val_acc: 0.8798\n",
      "Epoch 23/25\n",
      "20000/20000 [==============================] - 59s 3ms/step - loss: 0.0060 - acc: 0.9978 - val_loss: 0.7613 - val_acc: 0.8808\n",
      "Epoch 24/25\n",
      "20000/20000 [==============================] - 58s 3ms/step - loss: 0.0064 - acc: 0.9978 - val_loss: 0.7972 - val_acc: 0.88022s - loss: 0.0061\n",
      "Epoch 25/25\n",
      "20000/20000 [==============================] - 58s 3ms/step - loss: 0.0042 - acc: 0.9987 - val_loss: 0.8606 - val_acc: 0.8800\n"
     ]
    }
   ],
   "source": [
    "model.compile(loss='binary_crossentropy', optimizer='adam', metrics=['accuracy'])\n",
    "\n",
    "hist = model.fit(data_train, label_train, epochs=25, batch_size=64, validation_data=(data_val, label_val))"
   ]
  },
  {
   "cell_type": "code",
   "execution_count": null,
   "metadata": {},
   "outputs": [],
   "source": [
    "matplotlib을 사용해 훈련과 검증 데이터에 대한 손실과 정확도를 그려 보겠습니다"
   ]
  },
  {
   "cell_type": "code",
   "execution_count": 8,
   "metadata": {},
   "outputs": [
    {
     "data": {
      "image/png": "[encoded data removed]",
      "text/plain": [
       "<Figure size 432x288 with 2 Axes>"
      ]
     },
     "metadata": {
      "needs_background": "light"
     },
     "output_type": "display_data"
    }
   ],
   "source": [
    "%matplotlib inline\n",
    "import matplotlib.pyplot as plt\n",
    "\n",
    "fig, loss_ax = plt.subplots()\n",
    "\n",
    "acc_ax = loss_ax.twinx()\n",
    "\n",
    "loss_ax.plot(hist.history['loss'], 'bo', label='Traiing loss')\n",
    "loss_ax.plot(hist.history['val_loss'], 'b', label='Validation loss')\n",
    "loss_ax.set_ylim([-0.2, 1.2])\n",
    "\n",
    "acc_ax.plot(hist.history['acc'], 'go', label='Training acc')\n",
    "acc_ax.plot(hist.history['val_acc'], 'g', label='Validation acc')\n",
    "acc_ax.set_ylim([-0.2, 1.2])\n",
    "\n",
    "loss_ax.set_xlabel('Epochs')\n",
    "loss_ax.set_ylabel('Loss')\n",
    "acc_ax.set_ylabel('Accuray')\n",
    "\n",
    "loss_ax.legend(loc='upper left')\n",
    "acc_ax.legend(loc='lower left')\n",
    "\n",
    "plt.show()"
   ]
  },
  {
   "cell_type": "markdown",
   "metadata": {},
   "source": [
    "다른 지표들은 큰 차이를 보이지 않지만 훈련 손실이 에포크 초반 급격히 하락하는 것을 볼 수 있고\n",
    "검증 손실이 급격히 증가하는걸 볼 수 있습니다. 이를 통해 에포크가 이루어질수록 과적화되어 특별하게 일반화 되기 어려운 것을 볼 수 있습니다."
   ]
  },
  {
   "cell_type": "code",
   "execution_count": 10,
   "metadata": {},
   "outputs": [
    {
     "name": "stdout",
     "output_type": "stream",
     "text": [
      "25000/25000 [==============================] - 12s 491us/step\n",
      "[0.9070928074772074, 0.86732]\n"
     ]
    }
   ],
   "source": [
    "result = model.evaluate(test_data, test_labels)\n",
    "print(result)"
   ]
  },
  {
   "cell_type": "markdown",
   "metadata": {},
   "source": [
    "CNN을 사용한 IMDB 학습은 86.73%의 정확도를 달성했습니다."
   ]
  }
 ],
 "metadata": {
  "kernelspec": {
   "display_name": "Python 3",
   "language": "python",
   "name": "python3"
  },
  "language_info": {
   "codemirror_mode": {
    "name": "ipython",
    "version": 3
   },
   "file_extension": ".py",
   "mimetype": "text/x-python",
   "name": "python",
   "nbconvert_exporter": "python",
   "pygments_lexer": "ipython3",
   "version": "3.7.3"
  }
 },
 "nbformat": 4,
 "nbformat_minor": 2
}
