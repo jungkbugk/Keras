{
 "cells": [
  {
   "cell_type": "markdown",
   "metadata": {},
   "source": [
    "#IMDB With LSTM\n",
    "이번 노트북의 목표는 IMDB를 LSTM으로 학습하는것입니다.\n",
    "\n",
    "IMDB 데이터셋은 인터넷 영화 데이터베이스로부터 가져온 양 극단의 리뷰 50,000개로 이루어져 있습니다.\n",
    "데이터에 대한 자세한 설명은 \n",
    "[IMDB] 3.4 파일에 정리했으므로 생략하겠습니다.\n"
   ]
  },
  {
   "cell_type": "code",
   "execution_count": 1,
   "metadata": {},
   "outputs": [
    {
     "name": "stderr",
     "output_type": "stream",
     "text": [
      "Using TensorFlow backend.\n",
      "Invalid requirement: '#'\n",
      "\n"
     ]
    }
   ],
   "source": [
    "from keras.datasets import imdb\n",
    "!pip install numpy==1.16.1 # specififed numpy version.\n",
    "import numpy as np\n",
    "\n",
    "# This instruction will occur error:not pickled. [SOLVE: using numpy version: 1.16.1]\n",
    "(train_data,train_labels),(test_data,test_labels) = imdb.load_data(num_words=10000)"
   ]
  },
  {
   "cell_type": "markdown",
   "metadata": {},
   "source": [
    "5만개의 데이터셋을 각각 2만개의 데이터셋과 2만개의 트레이닝셋으로 구분하였습니다."
   ]
  },
  {
   "cell_type": "code",
   "execution_count": 2,
   "metadata": {},
   "outputs": [],
   "source": [
    "data_train = train_data[:20000]\n",
    "label_train = train_labels[:20000]\n",
    "data_val = train_data[20000:]\n",
    "label_val = train_labels[20000:]"
   ]
  },
  {
   "cell_type": "markdown",
   "metadata": {},
   "source": [
    "길이를 같게 패딩합니다."
   ]
  },
  {
   "cell_type": "code",
   "execution_count": 3,
   "metadata": {},
   "outputs": [],
   "source": [
    "from keras.preprocessing import sequence\n",
    "\n",
    "data_train = sequence.pad_sequences(data_train, maxlen=200)\n",
    "data_val = sequence.pad_sequences(data_val, maxlen=200)\n",
    "test_data = sequence.pad_sequences(test_data, maxlen=200)"
   ]
  },
  {
   "cell_type": "markdown",
   "metadata": {},
   "source": [
    "LSTM 모델을 정의합니다."
   ]
  },
  {
   "cell_type": "code",
   "execution_count": 4,
   "metadata": {},
   "outputs": [
    {
     "name": "stderr",
     "output_type": "stream",
     "text": [
      "WARNING: Logging before flag parsing goes to stderr.\n",
      "W0805 01:44:53.054559 17488 deprecation_wrapper.py:119] From C:\\Users\\yhkim\\Anaconda3\\lib\\site-packages\\keras\\backend\\tensorflow_backend.py:74: The name tf.get_default_graph is deprecated. Please use tf.compat.v1.get_default_graph instead.\n",
      "\n",
      "W0805 01:44:53.814817 17488 deprecation_wrapper.py:119] From C:\\Users\\yhkim\\Anaconda3\\lib\\site-packages\\keras\\backend\\tensorflow_backend.py:517: The name tf.placeholder is deprecated. Please use tf.compat.v1.placeholder instead.\n",
      "\n",
      "W0805 01:44:53.846049 17488 deprecation_wrapper.py:119] From C:\\Users\\yhkim\\Anaconda3\\lib\\site-packages\\keras\\backend\\tensorflow_backend.py:4138: The name tf.random_uniform is deprecated. Please use tf.random.uniform instead.\n",
      "\n"
     ]
    }
   ],
   "source": [
    "from keras.models import Sequential\n",
    "from keras.layers import Dense, Embedding, LSTM\n",
    "\n",
    "model = Sequential()\n",
    "model.add(Embedding(10000, 128))\n",
    "model.add(LSTM(128))\n",
    "model.add(Dense(1, activation='sigmoid'))"
   ]
  },
  {
   "cell_type": "markdown",
   "metadata": {},
   "source": [
    "64개씩 미니 배치를 만들어 Epochs 25(총 25번 학습)로 20000개의 트레이팅셋의 학습을 시작합니다."
   ]
  },
  {
   "cell_type": "code",
   "execution_count": 5,
   "metadata": {},
   "outputs": [
    {
     "name": "stderr",
     "output_type": "stream",
     "text": [
      "W0805 01:44:54.314491 17488 deprecation_wrapper.py:119] From C:\\Users\\yhkim\\Anaconda3\\lib\\site-packages\\keras\\optimizers.py:790: The name tf.train.Optimizer is deprecated. Please use tf.compat.v1.train.Optimizer instead.\n",
      "\n",
      "W0805 01:44:54.337917 17488 deprecation_wrapper.py:119] From C:\\Users\\yhkim\\Anaconda3\\lib\\site-packages\\keras\\backend\\tensorflow_backend.py:3376: The name tf.log is deprecated. Please use tf.math.log instead.\n",
      "\n",
      "W0805 01:44:54.345724 17488 deprecation.py:323] From C:\\Users\\yhkim\\Anaconda3\\lib\\site-packages\\tensorflow\\python\\ops\\nn_impl.py:180: add_dispatch_support.<locals>.wrapper (from tensorflow.python.ops.array_ops) is deprecated and will be removed in a future version.\n",
      "Instructions for updating:\n",
      "Use tf.where in 2.0, which has the same broadcast rule as np.where\n",
      "W0805 01:44:55.406669 17488 deprecation_wrapper.py:119] From C:\\Users\\yhkim\\Anaconda3\\lib\\site-packages\\keras\\backend\\tensorflow_backend.py:986: The name tf.assign_add is deprecated. Please use tf.compat.v1.assign_add instead.\n",
      "\n"
     ]
    },
    {
     "name": "stdout",
     "output_type": "stream",
     "text": [
      "Train on 20000 samples, validate on 5000 samples\n",
      "Epoch 1/25\n",
      "20000/20000 [==============================] - 140s 7ms/step - loss: 0.4481 - acc: 0.7863 - val_loss: 0.3927 - val_acc: 0.8284\n",
      "Epoch 2/25\n",
      "20000/20000 [==============================] - 146s 7ms/step - loss: 0.2617 - acc: 0.8973 - val_loss: 0.4222 - val_acc: 0.8468\n",
      "Epoch 3/25\n",
      "20000/20000 [==============================] - 176s 9ms/step - loss: 0.1958 - acc: 0.9262 - val_loss: 0.3442 - val_acc: 0.8544\n",
      "Epoch 4/25\n",
      "20000/20000 [==============================] - 149s 7ms/step - loss: 0.1442 - acc: 0.9488 - val_loss: 0.3857 - val_acc: 0.8536\n",
      "Epoch 5/25\n",
      "20000/20000 [==============================] - 156s 8ms/step - loss: 0.0950 - acc: 0.9682 - val_loss: 0.4380 - val_acc: 0.8554\n",
      "Epoch 6/25\n",
      "20000/20000 [==============================] - 155s 8ms/step - loss: 0.0761 - acc: 0.9747 - val_loss: 0.5384 - val_acc: 0.8536\n",
      "Epoch 7/25\n",
      "20000/20000 [==============================] - 153s 8ms/step - loss: 0.1534 - acc: 0.9347 - val_loss: 0.5081 - val_acc: 0.7490\n",
      "Epoch 8/25\n",
      "20000/20000 [==============================] - 151s 8ms/step - loss: 0.2120 - acc: 0.9165 - val_loss: 0.4037 - val_acc: 0.8368\n",
      "Epoch 9/25\n",
      "20000/20000 [==============================] - 154s 8ms/step - loss: 0.0955 - acc: 0.9659 - val_loss: 0.5144 - val_acc: 0.8358\n",
      "Epoch 10/25\n",
      "20000/20000 [==============================] - 147s 7ms/step - loss: 0.0437 - acc: 0.9864 - val_loss: 0.5970 - val_acc: 0.8524\n",
      "Epoch 11/25\n",
      "20000/20000 [==============================] - 147s 7ms/step - loss: 0.0278 - acc: 0.9917 - val_loss: 0.6358 - val_acc: 0.8424\n",
      "Epoch 12/25\n",
      "20000/20000 [==============================] - 146s 7ms/step - loss: 0.0242 - acc: 0.9923 - val_loss: 0.6591 - val_acc: 0.8514\n",
      "Epoch 13/25\n",
      "20000/20000 [==============================] - 152s 8ms/step - loss: 0.0161 - acc: 0.9954 - val_loss: 0.8293 - val_acc: 0.8472\n",
      "Epoch 14/25\n",
      "20000/20000 [==============================] - 148s 7ms/step - loss: 0.0075 - acc: 0.9982 - val_loss: 0.9095 - val_acc: 0.8476\n",
      "Epoch 15/25\n",
      "20000/20000 [==============================] - 146s 7ms/step - loss: 0.0066 - acc: 0.9986 - val_loss: 0.8187 - val_acc: 0.8310\n",
      "Epoch 16/25\n",
      "20000/20000 [==============================] - 145s 7ms/step - loss: 0.0170 - acc: 0.9945 - val_loss: 0.8911 - val_acc: 0.8486\n",
      "Epoch 17/25\n",
      "20000/20000 [==============================] - 150s 8ms/step - loss: 0.0211 - acc: 0.9935 - val_loss: 0.7745 - val_acc: 0.8430\n",
      "Epoch 18/25\n",
      "20000/20000 [==============================] - 147s 7ms/step - loss: 0.0118 - acc: 0.9963 - val_loss: 0.8446 - val_acc: 0.8442\n",
      "Epoch 19/25\n",
      "20000/20000 [==============================] - 146s 7ms/step - loss: 0.0047 - acc: 0.9987 - val_loss: 0.9423 - val_acc: 0.8388\n",
      "Epoch 20/25\n",
      "20000/20000 [==============================] - 150s 8ms/step - loss: 0.0054 - acc: 0.9981 - val_loss: 1.0302 - val_acc: 0.8468\n",
      "Epoch 21/25\n",
      "20000/20000 [==============================] - 148s 7ms/step - loss: 0.0055 - acc: 0.9984 - val_loss: 0.9718 - val_acc: 0.8482\n",
      "Epoch 22/25\n",
      "20000/20000 [==============================] - 150s 8ms/step - loss: 0.0089 - acc: 0.9970 - val_loss: 0.9753 - val_acc: 0.8554\n",
      "Epoch 23/25\n",
      "20000/20000 [==============================] - 148s 7ms/step - loss: 0.0067 - acc: 0.9982 - val_loss: 0.9910 - val_acc: 0.8450\n",
      "Epoch 24/25\n",
      "20000/20000 [==============================] - 146s 7ms/step - loss: 0.0054 - acc: 0.9985 - val_loss: 0.9534 - val_acc: 0.8442\n",
      "Epoch 25/25\n",
      "20000/20000 [==============================] - 147s 7ms/step - loss: 0.0053 - acc: 0.9985 - val_loss: 0.9974 - val_acc: 0.8424\n"
     ]
    }
   ],
   "source": [
    "model.compile(loss='binary_crossentropy', optimizer='adam', metrics=['accuracy'])\n",
    "\n",
    "hist = model.fit(data_train, label_train, epochs=25, batch_size=64, validation_data=(data_val, label_val))"
   ]
  },
  {
   "cell_type": "markdown",
   "metadata": {},
   "source": [
    "matplotlib을 사용해 훈련과 검증 데이터에 대한 손실과 정확도를 그려 보겠습니다"
   ]
  },
  {
   "cell_type": "code",
   "execution_count": 9,
   "metadata": {},
   "outputs": [
    {
     "data": {
      "image/png": "[encoded data removed]",
      "text/plain": [
       "<Figure size 432x288 with 2 Axes>"
      ]
     },
     "metadata": {
      "needs_background": "light"
     },
     "output_type": "display_data"
    }
   ],
   "source": [
    "%matplotlib inline\n",
    "import matplotlib.pyplot as plt\n",
    "\n",
    "fig, loss_ax = plt.subplots()\n",
    "\n",
    "acc_ax = loss_ax.twinx()\n",
    "\n",
    "loss_ax.plot(hist.history['loss'], 'bo', label='Traiing loss')\n",
    "loss_ax.plot(hist.history['val_loss'], 'b', label='Validation loss')\n",
    "loss_ax.set_ylim([-0.2, 1.2])\n",
    "\n",
    "acc_ax.plot(hist.history['acc'], 'go', label='Training acc')\n",
    "acc_ax.plot(hist.history['val_acc'], 'g', label='Validation acc')\n",
    "acc_ax.set_ylim([-0.2, 1.2])\n",
    "\n",
    "loss_ax.set_xlabel('Epochs')\n",
    "loss_ax.set_ylabel('Loss')\n",
    "acc_ax.set_ylabel('Accuray')\n",
    "\n",
    "loss_ax.legend(loc='upper left')\n",
    "acc_ax.legend(loc='lower left')\n",
    "\n",
    "plt.show()"
   ]
  },
  {
   "cell_type": "markdown",
   "metadata": {},
   "source": [
    "다른 지표들은 큰 차이를 보이지 않지만 훈련 손실이 에포크 초반 급격히 하락하는 것을 볼 수 있고\n",
    "검증 손실이 급격히 증가하는걸 볼 수 있습니다. 이를 통해 에포크가 이루어질수록 과적화되어 특별하게 일반화 되기 어려운 것을 볼 수 있습니다."
   ]
  },
  {
   "cell_type": "code",
   "execution_count": 11,
   "metadata": {},
   "outputs": [
    {
     "name": "stdout",
     "output_type": "stream",
     "text": [
      "25000/25000 [==============================] - 36s 1ms/step\n",
      "[1.0173537163546682, 0.84056]\n"
     ]
    }
   ],
   "source": [
    "result = model.evaluate(test_data, test_labels)\n",
    "print(result)"
   ]
  },
  {
   "cell_type": "markdown",
   "metadata": {},
   "source": [
    "LSTM을 사용한 IMDB 학습은 84.05%의 정확도를 달성했습니다."
   ]
  }
 ],
 "metadata": {
  "kernelspec": {
   "display_name": "Python 3",
   "language": "python",
   "name": "python3"
  },
  "language_info": {
   "codemirror_mode": {
    "name": "ipython",
    "version": 3
   },
   "file_extension": ".py",
   "mimetype": "text/x-python",
   "name": "python",
   "nbconvert_exporter": "python",
   "pygments_lexer": "ipython3",
   "version": "3.7.3"
  }
 },
 "nbformat": 4,
 "nbformat_minor": 2
}
