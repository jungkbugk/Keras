{
 "cells": [
  {
   "cell_type": "markdown",
   "metadata": {},
   "source": [
    "#IMDB with CNN+LSTM\n",
    "이번 노트북의 목표는 IMDB를 LSTM+CNN으로 학습하는것입니다.\n",
    "\n",
    "IMDB 데이터셋은 인터넷 영화 데이터베이스로부터 가져온 양 극단의 리뷰 50,000개로 이루어져 있습니다.\n",
    "데이터에 대한 자세한 설명은 \n",
    "[IMDB] 3.4 파일에 정리했으므로 생략하겠습니다.\n"
   ]
  },
  {
   "cell_type": "code",
   "execution_count": 1,
   "metadata": {},
   "outputs": [
    {
     "name": "stderr",
     "output_type": "stream",
     "text": [
      "Using TensorFlow backend.\n",
      "Invalid requirement: '#'\n",
      "\n"
     ]
    }
   ],
   "source": [
    "from keras.datasets import imdb\n",
    "!pip install numpy==1.16.1 # specififed numpy version.\n",
    "import numpy as np\n",
    "\n",
    "# This instruction will occur error:not pickled. [SOLVE: using numpy version: 1.16.1]\n",
    "(train_data,train_labels),(test_data,test_labels) = imdb.load_data(num_words=10000)"
   ]
  },
  {
   "cell_type": "markdown",
   "metadata": {},
   "source": [
    "5만개의 데이터셋을 각각 2만개의 데이터셋과 2만개의 트레이닝셋으로 구분하였습니다."
   ]
  },
  {
   "cell_type": "code",
   "execution_count": 2,
   "metadata": {},
   "outputs": [],
   "source": [
    "data_train = train_data[:20000]\n",
    "label_train = train_labels[:20000]\n",
    "data_val = train_data[20000:]\n",
    "label_val = train_labels[20000:]"
   ]
  },
  {
   "cell_type": "markdown",
   "metadata": {},
   "source": [
    "길이를 같게 패딩합니다."
   ]
  },
  {
   "cell_type": "code",
   "execution_count": 3,
   "metadata": {},
   "outputs": [],
   "source": [
    "from keras.preprocessing import sequence\n",
    "\n",
    "data_train = sequence.pad_sequences(data_train, maxlen=200)\n",
    "data_val = sequence.pad_sequences(data_val, maxlen=200)\n",
    "test_data = sequence.pad_sequences(test_data, maxlen=200)"
   ]
  },
  {
   "cell_type": "markdown",
   "metadata": {},
   "source": [
    "CNN+LSTM 모델을 정의합니다."
   ]
  },
  {
   "cell_type": "code",
   "execution_count": 4,
   "metadata": {},
   "outputs": [
    {
     "name": "stderr",
     "output_type": "stream",
     "text": [
      "WARNING: Logging before flag parsing goes to stderr.\n",
      "W0805 00:02:50.850327 20384 deprecation_wrapper.py:119] From C:\\Users\\yhkim\\Anaconda3\\lib\\site-packages\\keras\\backend\\tensorflow_backend.py:74: The name tf.get_default_graph is deprecated. Please use tf.compat.v1.get_default_graph instead.\n",
      "\n",
      "W0805 00:02:51.003618 20384 deprecation_wrapper.py:119] From C:\\Users\\yhkim\\Anaconda3\\lib\\site-packages\\keras\\backend\\tensorflow_backend.py:517: The name tf.placeholder is deprecated. Please use tf.compat.v1.placeholder instead.\n",
      "\n",
      "W0805 00:02:51.042658 20384 deprecation_wrapper.py:119] From C:\\Users\\yhkim\\Anaconda3\\lib\\site-packages\\keras\\backend\\tensorflow_backend.py:4138: The name tf.random_uniform is deprecated. Please use tf.random.uniform instead.\n",
      "\n",
      "W0805 00:02:51.086628 20384 deprecation_wrapper.py:119] From C:\\Users\\yhkim\\Anaconda3\\lib\\site-packages\\keras\\backend\\tensorflow_backend.py:133: The name tf.placeholder_with_default is deprecated. Please use tf.compat.v1.placeholder_with_default instead.\n",
      "\n",
      "W0805 00:02:51.100243 20384 deprecation.py:506] From C:\\Users\\yhkim\\Anaconda3\\lib\\site-packages\\keras\\backend\\tensorflow_backend.py:3445: calling dropout (from tensorflow.python.ops.nn_ops) with keep_prob is deprecated and will be removed in a future version.\n",
      "Instructions for updating:\n",
      "Please use `rate` instead of `keep_prob`. Rate should be set to `rate = 1 - keep_prob`.\n",
      "W0805 00:02:51.173442 20384 deprecation_wrapper.py:119] From C:\\Users\\yhkim\\Anaconda3\\lib\\site-packages\\keras\\backend\\tensorflow_backend.py:3976: The name tf.nn.max_pool is deprecated. Please use tf.nn.max_pool2d instead.\n",
      "\n"
     ]
    }
   ],
   "source": [
    "from keras.preprocessing import sequence\n",
    "from keras.models import Sequential\n",
    "from keras.layers import Dense, Embedding, LSTM\n",
    "from keras.layers import Flatten, Dropout\n",
    "from keras.layers import Conv1D, MaxPooling1D\n",
    "\n",
    "model = Sequential()\n",
    "model.add(Embedding(10000, 128, input_length=200))\n",
    "model.add(Dropout(0.2))\n",
    "model.add(Conv1D(256, 3, padding='valid', activation='relu', strides=1))\n",
    "model.add(MaxPooling1D(pool_size=4))\n",
    "model.add(LSTM(128))\n",
    "model.add(Dense(1, activation='sigmoid'))"
   ]
  },
  {
   "cell_type": "markdown",
   "metadata": {},
   "source": [
    "64개씩 미니 배치를 만들어 Epochs 25(총 25번 학습)로 20000개의 트레이팅셋의 학습을 시작합니다."
   ]
  },
  {
   "cell_type": "code",
   "execution_count": 5,
   "metadata": {
    "scrolled": true
   },
   "outputs": [
    {
     "name": "stderr",
     "output_type": "stream",
     "text": [
      "W0805 00:02:51.719110 20384 deprecation_wrapper.py:119] From C:\\Users\\yhkim\\Anaconda3\\lib\\site-packages\\keras\\optimizers.py:790: The name tf.train.Optimizer is deprecated. Please use tf.compat.v1.train.Optimizer instead.\n",
      "\n",
      "W0805 00:02:51.746457 20384 deprecation_wrapper.py:119] From C:\\Users\\yhkim\\Anaconda3\\lib\\site-packages\\keras\\backend\\tensorflow_backend.py:3376: The name tf.log is deprecated. Please use tf.math.log instead.\n",
      "\n",
      "W0805 00:02:51.754263 20384 deprecation.py:323] From C:\\Users\\yhkim\\Anaconda3\\lib\\site-packages\\tensorflow\\python\\ops\\nn_impl.py:180: add_dispatch_support.<locals>.wrapper (from tensorflow.python.ops.array_ops) is deprecated and will be removed in a future version.\n",
      "Instructions for updating:\n",
      "Use tf.where in 2.0, which has the same broadcast rule as np.where\n"
     ]
    },
    {
     "name": "stdout",
     "output_type": "stream",
     "text": [
      "Train on 20000 samples, validate on 5000 samples\n",
      "Epoch 1/25\n",
      "20000/20000 [==============================] - 88s 4ms/step - loss: 0.4129 - acc: 0.7962 - val_loss: 0.3314 - val_acc: 0.8660\n",
      "Epoch 2/25\n",
      "20000/20000 [==============================] - 90s 5ms/step - loss: 0.2198 - acc: 0.9169 - val_loss: 0.3372 - val_acc: 0.8548\n",
      "Epoch 3/25\n",
      "20000/20000 [==============================] - 85s 4ms/step - loss: 0.1381 - acc: 0.9503 - val_loss: 0.3821 - val_acc: 0.8626\n",
      "Epoch 4/25\n",
      "20000/20000 [==============================] - 89s 4ms/step - loss: 0.0903 - acc: 0.9712 - val_loss: 0.4810 - val_acc: 0.8624\n",
      "Epoch 5/25\n",
      "20000/20000 [==============================] - 92s 5ms/step - loss: 0.0552 - acc: 0.9829 - val_loss: 0.4882 - val_acc: 0.8526\n",
      "Epoch 6/25\n",
      "20000/20000 [==============================] - 86s 4ms/step - loss: 0.0397 - acc: 0.9862 - val_loss: 0.5808 - val_acc: 0.8582\n",
      "Epoch 7/25\n",
      "20000/20000 [==============================] - 82s 4ms/step - loss: 0.0271 - acc: 0.9916 - val_loss: 0.6894 - val_acc: 0.8544\n",
      "Epoch 8/25\n",
      "20000/20000 [==============================] - 84s 4ms/step - loss: 0.0256 - acc: 0.9920 - val_loss: 0.5616 - val_acc: 0.8626\n",
      "Epoch 9/25\n",
      "20000/20000 [==============================] - 81s 4ms/step - loss: 0.0209 - acc: 0.9936 - val_loss: 0.7023 - val_acc: 0.8528\n",
      "Epoch 10/25\n",
      "20000/20000 [==============================] - 85s 4ms/step - loss: 0.0166 - acc: 0.9946 - val_loss: 0.6954 - val_acc: 0.8522\n",
      "Epoch 11/25\n",
      "20000/20000 [==============================] - 78s 4ms/step - loss: 0.0142 - acc: 0.9953 - val_loss: 0.7558 - val_acc: 0.8498\n",
      "Epoch 12/25\n",
      "20000/20000 [==============================] - 83s 4ms/step - loss: 0.0213 - acc: 0.9927 - val_loss: 0.6225 - val_acc: 0.8542\n",
      "Epoch 13/25\n",
      "20000/20000 [==============================] - 90s 4ms/step - loss: 0.0180 - acc: 0.9943 - val_loss: 0.6943 - val_acc: 0.8544\n",
      "Epoch 14/25\n",
      "20000/20000 [==============================] - 81s 4ms/step - loss: 0.0120 - acc: 0.9960 - val_loss: 0.6847 - val_acc: 0.8590\n",
      "Epoch 15/25\n",
      "20000/20000 [==============================] - 82s 4ms/step - loss: 0.0093 - acc: 0.9972 - val_loss: 0.7404 - val_acc: 0.8548\n",
      "Epoch 16/25\n",
      "20000/20000 [==============================] - 89s 4ms/step - loss: 0.0089 - acc: 0.9973 - val_loss: 0.7630 - val_acc: 0.8550\n",
      "Epoch 17/25\n",
      "20000/20000 [==============================] - 87s 4ms/step - loss: 0.0093 - acc: 0.9970 - val_loss: 0.8131 - val_acc: 0.8562\n",
      "Epoch 18/25\n",
      "20000/20000 [==============================] - 90s 4ms/step - loss: 0.0159 - acc: 0.9945 - val_loss: 0.8040 - val_acc: 0.8510\n",
      "Epoch 19/25\n",
      "20000/20000 [==============================] - 90s 5ms/step - loss: 0.0057 - acc: 0.9979 - val_loss: 0.9977 - val_acc: 0.8500\n",
      "Epoch 20/25\n",
      "20000/20000 [==============================] - 94s 5ms/step - loss: 0.0080 - acc: 0.9971 - val_loss: 0.8379 - val_acc: 0.8522\n",
      "Epoch 21/25\n",
      "20000/20000 [==============================] - 98s 5ms/step - loss: 0.0089 - acc: 0.9970 - val_loss: 0.8843 - val_acc: 0.8506\n",
      "Epoch 22/25\n",
      "20000/20000 [==============================] - 99s 5ms/step - loss: 0.0082 - acc: 0.9970 - val_loss: 0.7860 - val_acc: 0.8498\n",
      "Epoch 23/25\n",
      "20000/20000 [==============================] - 93s 5ms/step - loss: 0.0064 - acc: 0.9979 - val_loss: 0.8251 - val_acc: 0.8446\n",
      "Epoch 24/25\n",
      "20000/20000 [==============================] - 92s 5ms/step - loss: 0.0049 - acc: 0.9986 - val_loss: 0.8175 - val_acc: 0.8488\n",
      "Epoch 25/25\n",
      "20000/20000 [==============================] - 91s 5ms/step - loss: 0.0116 - acc: 0.9956 - val_loss: 0.8397 - val_acc: 0.8526\n"
     ]
    }
   ],
   "source": [
    "model.compile(loss='binary_crossentropy', optimizer='adam', metrics=['accuracy'])\n",
    "hist = model.fit(data_train, label_train, epochs=25, batch_size=64, validation_data=(data_val, label_val))"
   ]
  },
  {
   "cell_type": "code",
   "execution_count": 8,
   "metadata": {},
   "outputs": [
    {
     "data": {
      "image/png": "[encoded data removed]",
      "text/plain": [
       "<Figure size 432x288 with 2 Axes>"
      ]
     },
     "metadata": {
      "needs_background": "light"
     },
     "output_type": "display_data"
    }
   ],
   "source": [
    "%matplotlib inline\n",
    "import matplotlib.pyplot as plt\n",
    "\n",
    "fig, loss_ax = plt.subplots()\n",
    "\n",
    "acc_ax = loss_ax.twinx()\n",
    "\n",
    "loss_ax.plot(hist.history['loss'], 'bo', label='Traiing loss')\n",
    "loss_ax.plot(hist.history['val_loss'], 'b', label='Validation loss')\n",
    "loss_ax.set_ylim([-0.2, 1.2])\n",
    "\n",
    "acc_ax.plot(hist.history['acc'], 'go', label='Training acc')\n",
    "acc_ax.plot(hist.history['val_acc'], 'g', label='Validation acc')\n",
    "acc_ax.set_ylim([-0.2, 1.2])\n",
    "\n",
    "loss_ax.set_xlabel('Epochs')\n",
    "loss_ax.set_ylabel('Loss')\n",
    "acc_ax.set_ylabel('Accuray')\n",
    "\n",
    "loss_ax.legend(loc='upper left')\n",
    "acc_ax.legend(loc='lower left')\n",
    "\n",
    "plt.show()"
   ]
  },
  {
   "cell_type": "markdown",
   "metadata": {},
   "source": [
    "다른 지표들은 큰 차이를 보이지 않지만 훈련 손실이 에포크 초반 급격히 하락하는 것을 볼 수 있고\n",
    "검증 손실이 급격히 증가하는걸 볼 수 있습니다. 이를 통해 에포크가 이루어질수록 과적화되어 특별하게 일반화 되기 어려운 것을 볼 수 있습니다."
   ]
  },
  {
   "cell_type": "code",
   "execution_count": 9,
   "metadata": {},
   "outputs": [
    {
     "name": "stdout",
     "output_type": "stream",
     "text": [
      "25000/25000 [==============================] - 25s 980us/step\n",
      "[0.915341448354125, 0.84452]\n"
     ]
    }
   ],
   "source": [
    "result = model.evaluate(test_data, test_labels)\n",
    "print(result)"
   ]
  },
  {
   "cell_type": "markdown",
   "metadata": {},
   "source": [
    "CNN+LSTM을 사용한 학습은 84.45%의 정확도를 달성했습니다."
   ]
  }
 ],
 "metadata": {
  "kernelspec": {
   "display_name": "Python 3",
   "language": "python",
   "name": "python3"
  },
  "language_info": {
   "codemirror_mode": {
    "name": "ipython",
    "version": 3
   },
   "file_extension": ".py",
   "mimetype": "text/x-python",
   "name": "python",
   "nbconvert_exporter": "python",
   "pygments_lexer": "ipython3",
   "version": "3.7.3"
  }
 },
 "nbformat": 4,
 "nbformat_minor": 2
}
